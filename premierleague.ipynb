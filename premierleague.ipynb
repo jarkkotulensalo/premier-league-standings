{
 "cells": [
  {
   "cell_type": "code",
   "execution_count": 2,
   "metadata": {},
   "outputs": [
    {
     "name": "stdout",
     "output_type": "stream",
     "text": [
      "Collecting sklearn\n",
      "  Using cached sklearn-0.0-py2.py3-none-any.whl\n",
      "Collecting scikit-learn\n",
      "  Using cached scikit_learn-0.24.2-cp38-cp38-win_amd64.whl (6.9 MB)\n",
      "Requirement already satisfied: numpy>=1.13.3 in c:\\users\\jarkk\\anaconda3\\envs\\tf-gpu\\lib\\site-packages (from scikit-learn->sklearn) (1.18.5)\n",
      "Requirement already satisfied: scipy>=0.19.1 in c:\\users\\jarkk\\anaconda3\\envs\\tf-gpu\\lib\\site-packages (from scikit-learn->sklearn) (1.4.1)\n",
      "Collecting joblib>=0.11\n",
      "  Using cached joblib-1.0.1-py3-none-any.whl (303 kB)\n",
      "Collecting threadpoolctl>=2.0.0\n",
      "  Using cached threadpoolctl-2.2.0-py3-none-any.whl (12 kB)\n",
      "Installing collected packages: threadpoolctl, joblib, scikit-learn, sklearn\n",
      "Successfully installed joblib-1.0.1 scikit-learn-0.24.2 sklearn-0.0 threadpoolctl-2.2.0\n"
     ]
    }
   ],
   "source": [
    "!pip install sklearn"
   ]
  },
  {
   "cell_type": "code",
   "execution_count": 3,
   "metadata": {},
   "outputs": [],
   "source": [
    "import pandas as pd\n",
    "import numpy as np\n",
    "import tensorflow as tf\n",
    "\n",
    "# from keras.utils.np_utils import to_categorical\n",
    "from sklearn.linear_model import LinearRegression"
   ]
  },
  {
   "cell_type": "code",
   "execution_count": 4,
   "metadata": {},
   "outputs": [
    {
     "data": {
      "text/html": [
       "<div>\n",
       "<style scoped>\n",
       "    .dataframe tbody tr th:only-of-type {\n",
       "        vertical-align: middle;\n",
       "    }\n",
       "\n",
       "    .dataframe tbody tr th {\n",
       "        vertical-align: top;\n",
       "    }\n",
       "\n",
       "    .dataframe thead th {\n",
       "        text-align: right;\n",
       "    }\n",
       "</style>\n",
       "<table border=\"1\" class=\"dataframe\">\n",
       "  <thead>\n",
       "    <tr style=\"text-align: right;\">\n",
       "      <th></th>\n",
       "      <th>year</th>\n",
       "      <th>team</th>\n",
       "      <th>standing</th>\n",
       "    </tr>\n",
       "  </thead>\n",
       "  <tbody>\n",
       "    <tr>\n",
       "      <th>0</th>\n",
       "      <td>2015</td>\n",
       "      <td>Arsenal</td>\n",
       "      <td>3</td>\n",
       "    </tr>\n",
       "    <tr>\n",
       "      <th>1</th>\n",
       "      <td>2016</td>\n",
       "      <td>Arsenal</td>\n",
       "      <td>2</td>\n",
       "    </tr>\n",
       "    <tr>\n",
       "      <th>2</th>\n",
       "      <td>2017</td>\n",
       "      <td>Arsenal</td>\n",
       "      <td>5</td>\n",
       "    </tr>\n",
       "    <tr>\n",
       "      <th>3</th>\n",
       "      <td>2018</td>\n",
       "      <td>Arsenal</td>\n",
       "      <td>6</td>\n",
       "    </tr>\n",
       "    <tr>\n",
       "      <th>4</th>\n",
       "      <td>2019</td>\n",
       "      <td>Arsenal</td>\n",
       "      <td>5</td>\n",
       "    </tr>\n",
       "  </tbody>\n",
       "</table>\n",
       "</div>"
      ],
      "text/plain": [
       "   year     team  standing\n",
       "0  2015  Arsenal         3\n",
       "1  2016  Arsenal         2\n",
       "2  2017  Arsenal         5\n",
       "3  2018  Arsenal         6\n",
       "4  2019  Arsenal         5"
      ]
     },
     "execution_count": 4,
     "metadata": {},
     "output_type": "execute_result"
    }
   ],
   "source": [
    "df = pd.read_csv('data.csv', sep=';')\n",
    "df.head()"
   ]
  },
  {
   "cell_type": "code",
   "execution_count": 121,
   "metadata": {},
   "outputs": [],
   "source": []
  },
  {
   "cell_type": "code",
   "execution_count": 23,
   "metadata": {},
   "outputs": [
    {
     "name": "stdout",
     "output_type": "stream",
     "text": [
      "['Arsenal' 'Aston Villa' 'Bournemouth' 'Brighton' 'Burnley' 'Cardiff City'\n",
      " 'Chelsea' 'Crystal Palace' 'Everton' 'Fulham' 'Huddersfield' 'Hull City'\n",
      " 'Leeds United' 'Leicester City' 'Liverpool' 'Man City' 'Man United'\n",
      " 'Middlesbrough' 'Newcastle' 'Norwich City' 'Sheffiel United'\n",
      " 'Southampton' 'Stoke City' 'Sunderland' 'Swansea' 'Tottenham' 'Watford'\n",
      " 'West Brom' 'West Ham' 'Wolves']\n",
      "team Arsenal\n",
      "team Aston Villa\n",
      "team Bournemouth\n",
      "team Brighton\n",
      "team Burnley\n",
      "team Cardiff City\n",
      "team Chelsea\n",
      "team Crystal Palace\n",
      "team Everton\n",
      "team Fulham\n",
      "team Huddersfield\n",
      "team Hull City\n",
      "team Leeds United\n",
      "team Leicester City\n",
      "team Liverpool\n",
      "team Man City\n",
      "team Man United\n",
      "team Newcastle\n",
      "team Norwich City\n",
      "team Sheffiel United\n",
      "team Southampton\n",
      "team Stoke City\n",
      "team Sunderland\n",
      "team Swansea\n",
      "team Tottenham\n",
      "team Watford\n",
      "team West Brom\n",
      "team West Ham\n",
      "team Wolves\n",
      "(138, 2, 31)\n",
      "(138,)\n",
      "(29, 2, 31)\n"
     ]
    }
   ],
   "source": [
    "vals = df.values\n",
    "sequences = 2\n",
    "teams = np.unique(df['team'].values)\n",
    "print(teams)\n",
    "X = []\n",
    "y = []\n",
    "X_test = []\n",
    "X_test_teams = []\n",
    "\n",
    "\n",
    "df_dummies = pd.get_dummies(df, columns=['team'])\n",
    "df_filtered = df_dummies.drop(columns=['year'])\n",
    "\n",
    "for team in teams:\n",
    "    df_team = df_filtered.loc[df['team'] == team]\n",
    "    #print(df_team)\n",
    "    team_standings = df_team.values\n",
    "    # print(f\"len(team_standings) {len(team_standings)}\")\n",
    "    for i in range(0, len(team_standings)):\n",
    "        # print(f\"team {team} {i}th year\")\n",
    "        if i + sequences < len(team_standings):\n",
    "            x_values = team_standings[i:i+sequences]\n",
    "            #print(x_values)\n",
    "            X.append(x_values)\n",
    "            y_value = team_standings[i+sequences, 0]\n",
    "            #print(y_value)\n",
    "            y.append(y_value)\n",
    "        elif i + sequences == len(team_standings):\n",
    "            x_values = team_standings[i:i+sequences]\n",
    "            X_test.append(x_values)\n",
    "            print(f\"team {team}\")\n",
    "            X_test_teams.append(team)\n",
    "\n",
    "X = np.array(X)\n",
    "y = np.array(y)\n",
    "X_test = np.array(X_test)\n",
    "print(X.shape)\n",
    "print(y.shape)\n",
    "print(X_test.shape)"
   ]
  },
  {
   "cell_type": "code",
   "execution_count": 24,
   "metadata": {},
   "outputs": [
    {
     "name": "stdout",
     "output_type": "stream",
     "text": [
      "[ 5  6  5  8  8 21 21 21 17 11  9 12 21 14 18 21 21 15 17 15 16 16  7 15\n",
      " 10 17 18  1  5  3  4  4 14 11 12 14 14  7  8  8 12 10 21 19 21 18 21 16\n",
      " 20 21 21 18 21 21 21 21 21 21 21 21  9 12  9 21  9  5  5  4  4  2  1  3\n",
      "  3  1  1  2  1  6  2  6  3  2 10 13 13 12 21 21 21 20 21 21 21 21  9 20\n",
      "  8 17 16 11 15 13 19 21 21 21 21 20 21 21 21 21 15 18  2  3  4  6  7 14\n",
      " 11 19 21 10 20 21 21 19 11 13 10 16  6 21 21  7  7 13]\n"
     ]
    }
   ],
   "source": [
    "print(y)"
   ]
  },
  {
   "cell_type": "code",
   "execution_count": 25,
   "metadata": {},
   "outputs": [
    {
     "name": "stdout",
     "output_type": "stream",
     "text": [
      "[[[ 8  1  0 ...  0  0  0]\n",
      "  [ 8  1  0 ...  0  0  0]]\n",
      "\n",
      " [[17  0  1 ...  0  0  0]\n",
      "  [11  0  1 ...  0  0  0]]\n",
      "\n",
      " [[18  0  0 ...  0  0  0]\n",
      "  [21  0  0 ...  0  0  0]]\n",
      "\n",
      " ...\n",
      "\n",
      " [[21  0  0 ...  1  0  0]\n",
      "  [19  0  0 ...  1  0  0]]\n",
      "\n",
      " [[16  0  0 ...  0  1  0]\n",
      "  [ 6  0  0 ...  0  1  0]]\n",
      "\n",
      " [[ 7  0  0 ...  0  0  1]\n",
      "  [13  0  0 ...  0  0  1]]]\n"
     ]
    }
   ],
   "source": [
    "print(X_test)"
   ]
  },
  {
   "cell_type": "code",
   "execution_count": 8,
   "metadata": {},
   "outputs": [],
   "source": [
    "def linear_transform(X):\n",
    "    if len(X.shape) == 3:\n",
    "        if X.shape[1] == 1:\n",
    "            X_linear = np.squeeze(X, 1)\n",
    "        else:\n",
    "            X_linear = X.reshape((X.shape[0], X.shape[1]* X.shape[2]))\n",
    "    return X_linear"
   ]
  },
  {
   "cell_type": "code",
   "execution_count": 32,
   "metadata": {},
   "outputs": [
    {
     "name": "stdout",
     "output_type": "stream",
     "text": [
      "(109, 93)\n"
     ]
    }
   ],
   "source": [
    "X_linear = linear_transform(X)\n",
    "print(X_linear.shape)"
   ]
  },
  {
   "cell_type": "code",
   "execution_count": 33,
   "metadata": {},
   "outputs": [
    {
     "name": "stdout",
     "output_type": "stream",
     "text": [
      "(109, 93)\n",
      "(109,)\n"
     ]
    },
    {
     "data": {
      "text/plain": [
       "0.8300872005581456"
      ]
     },
     "execution_count": 33,
     "metadata": {},
     "output_type": "execute_result"
    }
   ],
   "source": [
    "print(X_linear.shape)\n",
    "print(y.shape)\n",
    "reg = LinearRegression().fit(X_linear, y)\n",
    "reg.score(X_linear, y)"
   ]
  },
  {
   "cell_type": "code",
   "execution_count": 34,
   "metadata": {},
   "outputs": [
    {
     "name": "stdout",
     "output_type": "stream",
     "text": [
      "(29, 93)\n"
     ]
    }
   ],
   "source": [
    "X_test_linear = linear_transform(X_test)\n",
    "print(X_test_linear.shape)"
   ]
  },
  {
   "cell_type": "code",
   "execution_count": 35,
   "metadata": {},
   "outputs": [
    {
     "name": "stdout",
     "output_type": "stream",
     "text": [
      "['Arsenal', 'Aston Villa', 'Bournemouth', 'Brighton', 'Burnley', 'Cardiff City', 'Chelsea', 'Crystal Palace', 'Everton', 'Fulham', 'Huddersfield', 'Hull City', 'Leeds United', 'Leicester City', 'Liverpool', 'Man City', 'Man United', 'Newcastle', 'Norwich City', 'Sheffiel United', 'Southampton', 'Stoke City', 'Sunderland', 'Swansea', 'Tottenham', 'Watford', 'West Brom', 'West Ham', 'Wolves']\n"
     ]
    }
   ],
   "source": [
    "print(X_test_teams)"
   ]
  },
  {
   "cell_type": "code",
   "execution_count": 36,
   "metadata": {},
   "outputs": [
    {
     "name": "stdout",
     "output_type": "stream",
     "text": [
      "[ 6.21426392e+00  1.76158142e+01  1.72249756e+01  1.65786438e+01\n",
      "  1.27881165e+01 -1.99919023e+11  4.32546997e+00  1.27546692e+01\n",
      "  9.44900513e+00  1.97068787e+01  1.93099060e+01  2.06166687e+01\n",
      "  1.80753479e+01  1.08146362e+01  3.54293823e+00  1.59689331e+00\n",
      "  3.05270386e+00  1.30103455e+01  2.06907654e+01  1.87936096e+01\n",
      "  1.34379272e+01  1.87740479e+01  2.03648987e+01  1.68785095e+01\n",
      "  4.60598755e+00  1.72952881e+01  1.84105530e+01  1.09422302e+01\n",
      "  1.58688049e+01]\n"
     ]
    }
   ],
   "source": [
    "result = reg.predict(X_test_linear)\n",
    "print(np.array(result))"
   ]
  },
  {
   "cell_type": "code",
   "execution_count": 38,
   "metadata": {},
   "outputs": [
    {
     "name": "stdout",
     "output_type": "stream",
     "text": [
      "[ 5 15 16 14  6 24  0  8 13 27  7  4 17 20 28  3 23  2 25  1 12 26 21 19\n",
      " 10  9 22 11 18]\n"
     ]
    }
   ],
   "source": [
    "inds = np.argsort(result, axis=0)\n",
    "print(inds)"
   ]
  },
  {
   "cell_type": "code",
   "execution_count": 39,
   "metadata": {},
   "outputs": [
    {
     "name": "stdout",
     "output_type": "stream",
     "text": [
      "1th team Cardiff City is -199919022819.06\n",
      "2th team Man City is 1.6\n",
      "3th team Man United is 3.05\n",
      "4th team Liverpool is 3.54\n",
      "5th team Chelsea is 4.33\n",
      "6th team Tottenham is 4.61\n",
      "7th team Arsenal is 6.21\n",
      "8th team Everton is 9.45\n",
      "9th team Leicester City is 10.81\n",
      "10th team West Ham is 10.94\n",
      "11th team Crystal Palace is 12.75\n",
      "12th team Burnley is 12.79\n",
      "13th team Newcastle is 13.01\n",
      "14th team Southampton is 13.44\n",
      "15th team Wolves is 15.87\n",
      "16th team Brighton is 16.58\n",
      "17th team Swansea is 16.88\n",
      "18th team Bournemouth is 17.22\n",
      "19th team Watford is 17.3\n",
      "20th team Aston Villa is 17.62\n",
      "21th team Leeds United is 18.08\n",
      "22th team West Brom is 18.41\n",
      "23th team Stoke City is 18.77\n",
      "24th team Sheffiel United is 18.79\n",
      "25th team Huddersfield is 19.31\n",
      "26th team Fulham is 19.71\n",
      "27th team Sunderland is 20.36\n",
      "28th team Hull City is 20.62\n",
      "29th team Norwich City is 20.69\n"
     ]
    }
   ],
   "source": [
    "for i, ind in enumerate(inds):\n",
    "    team = X_test_teams[ind]\n",
    "    res = result[ind]\n",
    "    print(f\"{i+1}th team {team} is {round(res, 2)}\")"
   ]
  },
  {
   "cell_type": "markdown",
   "metadata": {},
   "source": [
    "# LSTM"
   ]
  },
  {
   "cell_type": "code",
   "execution_count": 26,
   "metadata": {},
   "outputs": [],
   "source": [
    "import tensorflow as tf\n",
    "from tensorflow.keras.layers import LSTM, Dropout, Dense\n",
    "from tensorflow.keras import Sequential"
   ]
  },
  {
   "cell_type": "code",
   "execution_count": 78,
   "metadata": {},
   "outputs": [],
   "source": [
    "\n",
    "def set_dataset(X, y):\n",
    "    train_ds = tf.data.Dataset.from_tensor_slices((X, y))\n",
    "    return train_ds"
   ]
  },
  {
   "cell_type": "code",
   "execution_count": 122,
   "metadata": {},
   "outputs": [],
   "source": [
    "def preprocessing(df, sequences):\n",
    "    vals = df.values\n",
    "    teams = np.unique(df['team'].values)\n",
    "    print(teams)\n",
    "    X = []\n",
    "    y = []\n",
    "    X_test = []\n",
    "    X_test_teams = []\n",
    "\n",
    "    df_dummies = pd.get_dummies(df, columns=['team'])\n",
    "    df_filtered = df_dummies.drop(columns=['year'])\n",
    "\n",
    "    for team in teams:\n",
    "        df_team = df_filtered.loc[df['team'] == team]\n",
    "        #print(df_team)\n",
    "        team_standings = df_team.values\n",
    "        # print(f\"len(team_standings) {len(team_standings)}\")\n",
    "        for i in range(0, len(team_standings)):\n",
    "            # print(f\"team {team} {i}th year\")\n",
    "            if i + sequences < len(team_standings):\n",
    "                x_values = team_standings[i:i+sequences]\n",
    "                #print(x_values)\n",
    "                X.append(x_values)\n",
    "                y_value = team_standings[i+sequences, 0]\n",
    "                #print(y_value)\n",
    "                y.append(y_value)\n",
    "            elif i + sequences == len(team_standings):\n",
    "                x_values = team_standings[i:i+sequences]\n",
    "                X_test.append(x_values)\n",
    "                print(f\"team {team}\")\n",
    "                X_test_teams.append(team)\n",
    "\n",
    "    X = np.array(X)\n",
    "    y = np.array(y)\n",
    "    X_test = np.array(X_test)\n",
    "    print(X.shape)\n",
    "    print(y.shape)\n",
    "    print(X_test.shape)\n",
    "    return X, y, X_test, X_test_teams"
   ]
  },
  {
   "cell_type": "code",
   "execution_count": 131,
   "metadata": {},
   "outputs": [],
   "source": [
    "def set_lstm(n_timesteps, n_features, hidden, n_outputs):\n",
    "    model = Sequential()\n",
    "    model.add(LSTM(hidden, input_shape=(n_timesteps, n_features)))\n",
    "    model.add(Dropout(0.1))\n",
    "    #model.add(Dense(hidden, activation='relu'))\n",
    "    model.add(Dense(n_outputs, activation='relu'))\n",
    "    # model.compile(loss='categorical_crossentropy', optimizer='adam', metrics=['mse'])\n",
    "    model.compile(loss='mse', optimizer='adam', metrics=['mse'])\n",
    "    model.summary()\n",
    "    return model\n",
    "\n",
    "def predict(model, X_test):\n",
    "    lstm_preds = model.predict(X_test)\n",
    "    inds = np.argsort(lstm_preds[:,0])\n",
    "    print(inds)\n",
    "    print(lstm_preds.shape)\n",
    "\n",
    "    for i, ind in enumerate(inds):\n",
    "        team = X_test_teams[ind]\n",
    "        pred = lstm_preds[ind, 0]\n",
    "        print(f\"{i+1}th team {team} is {str(np.round(pred, 1))}\")\n",
    "\n",
    "def train(n_timesteps, n_features, hidden, output_size, batch_size, epochs):\n",
    "    model = set_lstm(n_timesteps, n_features, hidden, output_size)\n",
    "    # Compile the model\n",
    "    # optimizer = tf.keras.optimizers.Adam()\n",
    "    # model.compile(optimizer=optimizer, loss='mse')\n",
    "\n",
    "    # train_ds = set_dataset(X, y)\n",
    "    print(X.shape)\n",
    "    X_train, X_val = X[:100,:,:], X[100:,:]\n",
    "    y_train, y_val = y[:100], y[100:]\n",
    "\n",
    "    model.fit(X, y, epochs=epochs, batch_size=batch_size, verbose=2, validation_split=0.2)\n",
    "    # evaluate model\n",
    "    _, accuracy = model.evaluate(X_val, y_val, batch_size=batch_size, verbose=0)\n",
    "\n",
    "    print(accuracy)\n",
    "    return model"
   ]
  },
  {
   "cell_type": "code",
   "execution_count": 139,
   "metadata": {
    "scrolled": true
   },
   "outputs": [
    {
     "name": "stdout",
     "output_type": "stream",
     "text": [
      "['Arsenal' 'Aston Villa' 'Bournemouth' 'Brighton' 'Burnley' 'Cardiff City'\n",
      " 'Chelsea' 'Crystal Palace' 'Everton' 'Fulham' 'Huddersfield' 'Hull City'\n",
      " 'Leeds United' 'Leicester City' 'Liverpool' 'Man City' 'Man United'\n",
      " 'Middlesbrough' 'Newcastle' 'Norwich City' 'Sheffiel United'\n",
      " 'Southampton' 'Stoke City' 'Sunderland' 'Swansea' 'Tottenham' 'Watford'\n",
      " 'West Brom' 'West Ham' 'Wolves']\n",
      "team Arsenal\n",
      "team Aston Villa\n",
      "team Bournemouth\n",
      "team Brighton\n",
      "team Burnley\n",
      "team Cardiff City\n",
      "team Chelsea\n",
      "team Crystal Palace\n",
      "team Everton\n",
      "team Fulham\n",
      "team Huddersfield\n",
      "team Hull City\n",
      "team Leeds United\n",
      "team Leicester City\n",
      "team Liverpool\n",
      "team Man City\n",
      "team Man United\n",
      "team Newcastle\n",
      "team Norwich City\n",
      "team Sheffiel United\n",
      "team Southampton\n",
      "team Stoke City\n",
      "team Sunderland\n",
      "team Swansea\n",
      "team Tottenham\n",
      "team Watford\n",
      "team West Brom\n",
      "team West Ham\n",
      "team Wolves\n",
      "(109, 3, 31)\n",
      "(109,)\n",
      "(29, 3, 31)\n",
      "Model: \"sequential_61\"\n",
      "_________________________________________________________________\n",
      "Layer (type)                 Output Shape              Param #   \n",
      "=================================================================\n",
      "lstm_35 (LSTM)               (None, 64)                24576     \n",
      "_________________________________________________________________\n",
      "dropout_9 (Dropout)          (None, 64)                0         \n",
      "_________________________________________________________________\n",
      "dense_66 (Dense)             (None, 1)                 65        \n",
      "=================================================================\n",
      "Total params: 24,641\n",
      "Trainable params: 24,641\n",
      "Non-trainable params: 0\n",
      "_________________________________________________________________\n",
      "(109, 3, 31)\n",
      "Epoch 1/100\n",
      "22/22 - 2s - loss: 200.8449 - mse: 200.8449 - val_loss: 181.3266 - val_mse: 181.3266\n",
      "Epoch 2/100\n",
      "22/22 - 0s - loss: 154.1711 - mse: 154.1711 - val_loss: 128.0310 - val_mse: 128.0310\n",
      "Epoch 3/100\n",
      "22/22 - 0s - loss: 103.6134 - mse: 103.6134 - val_loss: 79.9060 - val_mse: 79.9060\n",
      "Epoch 4/100\n",
      "22/22 - 0s - loss: 65.4184 - mse: 65.4184 - val_loss: 54.8878 - val_mse: 54.8878\n",
      "Epoch 5/100\n",
      "22/22 - 0s - loss: 48.8012 - mse: 48.8012 - val_loss: 42.3341 - val_mse: 42.3341\n",
      "Epoch 6/100\n",
      "22/22 - 0s - loss: 37.2916 - mse: 37.2916 - val_loss: 35.1540 - val_mse: 35.1540\n",
      "Epoch 7/100\n",
      "22/22 - 0s - loss: 30.3424 - mse: 30.3424 - val_loss: 30.5352 - val_mse: 30.5352\n",
      "Epoch 8/100\n",
      "22/22 - 0s - loss: 24.7712 - mse: 24.7712 - val_loss: 26.6953 - val_mse: 26.6953\n",
      "Epoch 9/100\n",
      "22/22 - 0s - loss: 20.9955 - mse: 20.9955 - val_loss: 24.7404 - val_mse: 24.7404\n",
      "Epoch 10/100\n",
      "22/22 - 0s - loss: 18.8030 - mse: 18.8030 - val_loss: 23.7816 - val_mse: 23.7816\n",
      "Epoch 11/100\n",
      "22/22 - 0s - loss: 16.8570 - mse: 16.8570 - val_loss: 22.7850 - val_mse: 22.7850\n",
      "Epoch 12/100\n",
      "22/22 - 0s - loss: 15.2010 - mse: 15.2010 - val_loss: 22.9395 - val_mse: 22.9395\n",
      "Epoch 13/100\n",
      "22/22 - 0s - loss: 14.6306 - mse: 14.6306 - val_loss: 22.1587 - val_mse: 22.1587\n",
      "Epoch 14/100\n",
      "22/22 - 0s - loss: 14.0412 - mse: 14.0412 - val_loss: 22.4144 - val_mse: 22.4144\n",
      "Epoch 15/100\n",
      "22/22 - 0s - loss: 14.6374 - mse: 14.6374 - val_loss: 22.7646 - val_mse: 22.7646\n",
      "Epoch 16/100\n",
      "22/22 - 0s - loss: 13.6487 - mse: 13.6487 - val_loss: 22.6114 - val_mse: 22.6114\n",
      "Epoch 17/100\n",
      "22/22 - 0s - loss: 13.8369 - mse: 13.8369 - val_loss: 22.3548 - val_mse: 22.3548\n",
      "Epoch 18/100\n",
      "22/22 - 0s - loss: 13.3172 - mse: 13.3172 - val_loss: 21.7380 - val_mse: 21.7380\n",
      "Epoch 19/100\n",
      "22/22 - 0s - loss: 14.5310 - mse: 14.5310 - val_loss: 21.8851 - val_mse: 21.8851\n",
      "Epoch 20/100\n",
      "22/22 - 0s - loss: 11.8023 - mse: 11.8023 - val_loss: 22.7381 - val_mse: 22.7381\n",
      "Epoch 21/100\n",
      "22/22 - 0s - loss: 12.8617 - mse: 12.8617 - val_loss: 21.9637 - val_mse: 21.9637\n",
      "Epoch 22/100\n",
      "22/22 - 0s - loss: 12.5242 - mse: 12.5242 - val_loss: 22.0017 - val_mse: 22.0017\n",
      "Epoch 23/100\n",
      "22/22 - 0s - loss: 11.4679 - mse: 11.4679 - val_loss: 21.7482 - val_mse: 21.7482\n",
      "Epoch 24/100\n",
      "22/22 - 0s - loss: 12.6612 - mse: 12.6612 - val_loss: 21.7712 - val_mse: 21.7712\n",
      "Epoch 25/100\n",
      "22/22 - 0s - loss: 12.3954 - mse: 12.3954 - val_loss: 21.8378 - val_mse: 21.8378\n",
      "Epoch 26/100\n",
      "22/22 - 0s - loss: 12.1329 - mse: 12.1329 - val_loss: 21.8382 - val_mse: 21.8382\n",
      "Epoch 27/100\n",
      "22/22 - 0s - loss: 12.0513 - mse: 12.0513 - val_loss: 21.4517 - val_mse: 21.4517\n",
      "Epoch 28/100\n",
      "22/22 - 0s - loss: 11.6761 - mse: 11.6761 - val_loss: 21.6329 - val_mse: 21.6329\n",
      "Epoch 29/100\n",
      "22/22 - 0s - loss: 10.4415 - mse: 10.4415 - val_loss: 21.4019 - val_mse: 21.4019\n",
      "Epoch 30/100\n",
      "22/22 - 0s - loss: 10.7716 - mse: 10.7716 - val_loss: 21.1685 - val_mse: 21.1685\n",
      "Epoch 31/100\n",
      "22/22 - 0s - loss: 11.6354 - mse: 11.6354 - val_loss: 21.4060 - val_mse: 21.4060\n",
      "Epoch 32/100\n",
      "22/22 - 0s - loss: 10.1626 - mse: 10.1626 - val_loss: 21.3926 - val_mse: 21.3926\n",
      "Epoch 33/100\n",
      "22/22 - 0s - loss: 10.8175 - mse: 10.8175 - val_loss: 21.8359 - val_mse: 21.8359\n",
      "Epoch 34/100\n",
      "22/22 - 0s - loss: 10.3943 - mse: 10.3943 - val_loss: 22.2084 - val_mse: 22.2084\n",
      "Epoch 35/100\n",
      "22/22 - 0s - loss: 10.0180 - mse: 10.0180 - val_loss: 21.0167 - val_mse: 21.0167\n",
      "Epoch 36/100\n",
      "22/22 - 0s - loss: 9.8656 - mse: 9.8656 - val_loss: 21.8979 - val_mse: 21.8979\n",
      "Epoch 37/100\n",
      "22/22 - 0s - loss: 10.2040 - mse: 10.2040 - val_loss: 20.9872 - val_mse: 20.9872\n",
      "Epoch 38/100\n",
      "22/22 - 0s - loss: 10.3355 - mse: 10.3355 - val_loss: 21.0443 - val_mse: 21.0443\n",
      "Epoch 39/100\n",
      "22/22 - 0s - loss: 10.1825 - mse: 10.1825 - val_loss: 20.8419 - val_mse: 20.8419\n",
      "Epoch 40/100\n",
      "22/22 - 0s - loss: 11.5949 - mse: 11.5949 - val_loss: 20.8034 - val_mse: 20.8034\n",
      "Epoch 41/100\n",
      "22/22 - 0s - loss: 9.8514 - mse: 9.8514 - val_loss: 22.2846 - val_mse: 22.2846\n",
      "Epoch 42/100\n",
      "22/22 - 0s - loss: 9.8418 - mse: 9.8418 - val_loss: 20.8222 - val_mse: 20.8222\n",
      "Epoch 43/100\n",
      "22/22 - 0s - loss: 10.0282 - mse: 10.0282 - val_loss: 21.3988 - val_mse: 21.3988\n",
      "Epoch 44/100\n",
      "22/22 - 0s - loss: 10.1005 - mse: 10.1005 - val_loss: 21.3404 - val_mse: 21.3404\n",
      "Epoch 45/100\n",
      "22/22 - 0s - loss: 9.9084 - mse: 9.9084 - val_loss: 21.4331 - val_mse: 21.4331\n",
      "Epoch 46/100\n",
      "22/22 - 0s - loss: 8.7795 - mse: 8.7795 - val_loss: 20.9791 - val_mse: 20.9791\n",
      "Epoch 47/100\n",
      "22/22 - 0s - loss: 9.1506 - mse: 9.1506 - val_loss: 21.1198 - val_mse: 21.1198\n",
      "Epoch 48/100\n",
      "22/22 - 0s - loss: 9.7772 - mse: 9.7772 - val_loss: 21.6468 - val_mse: 21.6468\n",
      "Epoch 49/100\n",
      "22/22 - 0s - loss: 9.8617 - mse: 9.8617 - val_loss: 20.7943 - val_mse: 20.7943\n",
      "Epoch 50/100\n",
      "22/22 - 0s - loss: 8.3114 - mse: 8.3114 - val_loss: 21.7127 - val_mse: 21.7127\n",
      "Epoch 51/100\n",
      "22/22 - 0s - loss: 8.8696 - mse: 8.8696 - val_loss: 20.8627 - val_mse: 20.8627\n",
      "Epoch 52/100\n",
      "22/22 - 0s - loss: 8.5934 - mse: 8.5934 - val_loss: 21.0148 - val_mse: 21.0148\n",
      "Epoch 53/100\n",
      "22/22 - 0s - loss: 8.9173 - mse: 8.9173 - val_loss: 20.7055 - val_mse: 20.7055\n",
      "Epoch 54/100\n",
      "22/22 - 0s - loss: 8.2867 - mse: 8.2867 - val_loss: 20.8713 - val_mse: 20.8713\n",
      "Epoch 55/100\n",
      "22/22 - 0s - loss: 9.3330 - mse: 9.3330 - val_loss: 21.1871 - val_mse: 21.1871\n",
      "Epoch 56/100\n",
      "22/22 - 0s - loss: 8.7415 - mse: 8.7415 - val_loss: 21.3398 - val_mse: 21.3398\n",
      "Epoch 57/100\n",
      "22/22 - 0s - loss: 9.2718 - mse: 9.2718 - val_loss: 20.6892 - val_mse: 20.6892\n",
      "Epoch 58/100\n",
      "22/22 - 0s - loss: 8.1977 - mse: 8.1977 - val_loss: 20.9544 - val_mse: 20.9544\n",
      "Epoch 59/100\n",
      "22/22 - 0s - loss: 8.1645 - mse: 8.1645 - val_loss: 21.5078 - val_mse: 21.5078\n",
      "Epoch 60/100\n",
      "22/22 - 0s - loss: 7.9826 - mse: 7.9826 - val_loss: 21.1947 - val_mse: 21.1947\n",
      "Epoch 61/100\n",
      "22/22 - 0s - loss: 8.1917 - mse: 8.1917 - val_loss: 20.8757 - val_mse: 20.8757\n",
      "Epoch 62/100\n",
      "22/22 - 0s - loss: 7.9755 - mse: 7.9755 - val_loss: 21.5048 - val_mse: 21.5048\n",
      "Epoch 63/100\n",
      "22/22 - 0s - loss: 8.1848 - mse: 8.1848 - val_loss: 21.2887 - val_mse: 21.2887\n",
      "Epoch 64/100\n",
      "22/22 - 0s - loss: 7.6726 - mse: 7.6726 - val_loss: 20.9844 - val_mse: 20.9844\n",
      "Epoch 65/100\n",
      "22/22 - 0s - loss: 7.9920 - mse: 7.9920 - val_loss: 21.4622 - val_mse: 21.4622\n",
      "Epoch 66/100\n",
      "22/22 - 0s - loss: 7.0910 - mse: 7.0910 - val_loss: 21.5654 - val_mse: 21.5654\n",
      "Epoch 67/100\n",
      "22/22 - 0s - loss: 8.2758 - mse: 8.2758 - val_loss: 21.6073 - val_mse: 21.6073\n",
      "Epoch 68/100\n",
      "22/22 - 0s - loss: 8.0578 - mse: 8.0578 - val_loss: 22.2834 - val_mse: 22.2834\n",
      "Epoch 69/100\n",
      "22/22 - 0s - loss: 7.0742 - mse: 7.0742 - val_loss: 21.6730 - val_mse: 21.6730\n",
      "Epoch 70/100\n",
      "22/22 - 0s - loss: 7.5357 - mse: 7.5357 - val_loss: 21.3371 - val_mse: 21.3371\n",
      "Epoch 71/100\n",
      "22/22 - 0s - loss: 7.8041 - mse: 7.8041 - val_loss: 23.0425 - val_mse: 23.0425\n"
     ]
    },
    {
     "name": "stdout",
     "output_type": "stream",
     "text": [
      "Epoch 72/100\n",
      "22/22 - 0s - loss: 7.1232 - mse: 7.1232 - val_loss: 22.1893 - val_mse: 22.1893\n",
      "Epoch 73/100\n",
      "22/22 - 0s - loss: 7.6491 - mse: 7.6491 - val_loss: 21.9048 - val_mse: 21.9048\n",
      "Epoch 74/100\n",
      "22/22 - 0s - loss: 7.4800 - mse: 7.4800 - val_loss: 22.7116 - val_mse: 22.7116\n",
      "Epoch 75/100\n",
      "22/22 - 0s - loss: 7.2940 - mse: 7.2940 - val_loss: 21.4726 - val_mse: 21.4726\n",
      "Epoch 76/100\n",
      "22/22 - 0s - loss: 7.5785 - mse: 7.5785 - val_loss: 23.0770 - val_mse: 23.0770\n",
      "Epoch 77/100\n",
      "22/22 - 0s - loss: 7.1273 - mse: 7.1273 - val_loss: 22.4754 - val_mse: 22.4754\n",
      "Epoch 78/100\n",
      "22/22 - 0s - loss: 6.5161 - mse: 6.5161 - val_loss: 22.1265 - val_mse: 22.1265\n",
      "Epoch 79/100\n",
      "22/22 - 0s - loss: 6.3457 - mse: 6.3457 - val_loss: 23.0133 - val_mse: 23.0133\n",
      "Epoch 80/100\n",
      "22/22 - 0s - loss: 6.4883 - mse: 6.4883 - val_loss: 21.7585 - val_mse: 21.7585\n",
      "Epoch 81/100\n",
      "22/22 - 0s - loss: 6.2578 - mse: 6.2578 - val_loss: 21.9529 - val_mse: 21.9529\n",
      "Epoch 82/100\n",
      "22/22 - 0s - loss: 6.5425 - mse: 6.5425 - val_loss: 22.4822 - val_mse: 22.4822\n",
      "Epoch 83/100\n",
      "22/22 - 0s - loss: 5.9661 - mse: 5.9661 - val_loss: 22.9348 - val_mse: 22.9348\n",
      "Epoch 84/100\n",
      "22/22 - 0s - loss: 7.3737 - mse: 7.3737 - val_loss: 22.8511 - val_mse: 22.8511\n",
      "Epoch 85/100\n",
      "22/22 - 0s - loss: 6.3998 - mse: 6.3998 - val_loss: 23.5393 - val_mse: 23.5393\n",
      "Epoch 86/100\n",
      "22/22 - 0s - loss: 7.4269 - mse: 7.4269 - val_loss: 25.0151 - val_mse: 25.0151\n",
      "Epoch 87/100\n",
      "22/22 - 0s - loss: 6.2212 - mse: 6.2212 - val_loss: 22.8987 - val_mse: 22.8987\n",
      "Epoch 88/100\n",
      "22/22 - 0s - loss: 6.8009 - mse: 6.8009 - val_loss: 23.3541 - val_mse: 23.3541\n",
      "Epoch 89/100\n",
      "22/22 - 0s - loss: 6.2046 - mse: 6.2046 - val_loss: 24.0417 - val_mse: 24.0417\n",
      "Epoch 90/100\n",
      "22/22 - 0s - loss: 6.1410 - mse: 6.1410 - val_loss: 23.0400 - val_mse: 23.0400\n",
      "Epoch 91/100\n",
      "22/22 - 0s - loss: 6.5541 - mse: 6.5541 - val_loss: 24.4202 - val_mse: 24.4202\n",
      "Epoch 92/100\n",
      "22/22 - 0s - loss: 6.8638 - mse: 6.8638 - val_loss: 23.6599 - val_mse: 23.6599\n",
      "Epoch 93/100\n",
      "22/22 - 0s - loss: 5.8479 - mse: 5.8479 - val_loss: 23.8767 - val_mse: 23.8767\n",
      "Epoch 94/100\n",
      "22/22 - 0s - loss: 6.1219 - mse: 6.1219 - val_loss: 25.0136 - val_mse: 25.0136\n",
      "Epoch 95/100\n",
      "22/22 - 0s - loss: 5.9608 - mse: 5.9608 - val_loss: 24.4078 - val_mse: 24.4078\n",
      "Epoch 96/100\n",
      "22/22 - 0s - loss: 5.9739 - mse: 5.9739 - val_loss: 24.7768 - val_mse: 24.7768\n",
      "Epoch 97/100\n",
      "22/22 - 0s - loss: 4.7742 - mse: 4.7742 - val_loss: 25.1913 - val_mse: 25.1913\n",
      "Epoch 98/100\n",
      "22/22 - 0s - loss: 5.6006 - mse: 5.6006 - val_loss: 26.0345 - val_mse: 26.0345\n",
      "Epoch 99/100\n",
      "22/22 - 0s - loss: 4.5660 - mse: 4.5660 - val_loss: 24.6055 - val_mse: 24.6055\n",
      "Epoch 100/100\n",
      "22/22 - 0s - loss: 5.9028 - mse: 5.9028 - val_loss: 26.5588 - val_mse: 26.5588\n",
      "26.7585391998291\n"
     ]
    }
   ],
   "source": [
    "n_timesteps = 3\n",
    "n_features = 31\n",
    "hidden = 64\n",
    "output_size = 1  # labels are from 1-21\n",
    "batch_size = 4\n",
    "epochs = 100\n",
    "\n",
    "X, y, X_test, X_test_teams = preprocessing(df, n_timesteps)\n",
    "\n",
    "model = train(n_timesteps, n_features, hidden, output_size, batch_size, epochs)\n"
   ]
  },
  {
   "cell_type": "code",
   "execution_count": 140,
   "metadata": {},
   "outputs": [
    {
     "name": "stdout",
     "output_type": "stream",
     "text": [
      "[15 14 16  6 13  0  8 27  4 24  1  7 17 12 28  5 25 23 26  3 20  2 19  9\n",
      " 10 21 22 18 11]\n",
      "(29, 1)\n",
      "1th team Man City is 0.9\n",
      "2th team Liverpool is 1.3\n",
      "3th team Man United is 3.2\n",
      "4th team Chelsea is 3.5\n",
      "5th team Leicester City is 5.1\n",
      "6th team Arsenal is 8.4\n",
      "7th team Everton is 9.5\n",
      "8th team West Ham is 9.8\n",
      "9th team Burnley is 11.4\n",
      "10th team Tottenham is 11.9\n",
      "11th team Aston Villa is 11.9\n",
      "12th team Crystal Palace is 11.9\n",
      "13th team Newcastle is 12.2\n",
      "14th team Leeds United is 12.5\n",
      "15th team Wolves is 13.8\n",
      "16th team Cardiff City is 14.0\n",
      "17th team Watford is 14.3\n",
      "18th team Swansea is 14.5\n",
      "19th team West Brom is 14.6\n",
      "20th team Brighton is 15.2\n",
      "21th team Southampton is 15.5\n",
      "22th team Bournemouth is 17.3\n",
      "23th team Sheffiel United is 18.7\n",
      "24th team Fulham is 19.1\n",
      "25th team Huddersfield is 19.7\n",
      "26th team Stoke City is 20.5\n",
      "27th team Sunderland is 20.7\n",
      "28th team Norwich City is 20.8\n",
      "29th team Hull City is 20.9\n"
     ]
    }
   ],
   "source": [
    "predict(model, X_test)"
   ]
  }
 ],
 "metadata": {
  "kernelspec": {
   "display_name": "Python 3",
   "language": "python",
   "name": "python3"
  },
  "language_info": {
   "codemirror_mode": {
    "name": "ipython",
    "version": 3
   },
   "file_extension": ".py",
   "mimetype": "text/x-python",
   "name": "python",
   "nbconvert_exporter": "python",
   "pygments_lexer": "ipython3",
   "version": "3.8.11"
  }
 },
 "nbformat": 4,
 "nbformat_minor": 1
}
