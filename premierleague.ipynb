{
 "cells": [
  {
   "cell_type": "code",
   "execution_count": null,
   "metadata": {},
   "outputs": [],
   "source": [
    "import pandas as pd\n",
    "import numpy as np\n",
    "import tensorflow as tf\n",
    "\n",
    "# from keras.utils.np_utils import to_categorical\n",
    "import sklearn\n",
    "from sklearn.linear_model import LinearRegression"
   ]
  },
  {
   "cell_type": "code",
   "execution_count": null,
   "metadata": {},
   "outputs": [],
   "source": [
    "df = pd.read_csv('data/data.csv', sep=';')\n",
    "# sort data by team and year\n",
    "df = df.sort_values(['team', 'year'], ascending=[True, True]).reset_index(drop=True)\n",
    "df.tail()"
   ]
  },
  {
   "cell_type": "code",
   "execution_count": null,
   "metadata": {},
   "outputs": [],
   "source": [
    "df_dummies = pd.get_dummies(df, columns=['team'])\n",
    "df_dummies.head()\n"
   ]
  },
  {
   "cell_type": "code",
   "execution_count": null,
   "metadata": {},
   "outputs": [],
   "source": [
    "df_filtered = df_dummies.drop(columns=['year'])\n",
    "df_filtered.head()"
   ]
  },
  {
   "cell_type": "code",
   "execution_count": null,
   "metadata": {},
   "outputs": [],
   "source": [
    "vals = df.values\n",
    "sequences = 2\n",
    "teams = np.unique(df['team'].values)\n",
    "print(teams)\n",
    "X = []\n",
    "y = []\n",
    "X_test = []\n",
    "X_test_teams = []\n",
    "\n",
    "df_dummies = pd.get_dummies(df, columns=['team'])\n",
    "df_filtered = df_dummies.drop(columns=['year'])\n",
    "\n",
    "for team in teams:\n",
    "    df_team = df_filtered.loc[df['team'] == team]\n",
    "    #print(df_team)\n",
    "    team_standings = df_team.values\n",
    "    # print(f\"len(team_standings) {len(team_standings)}\")\n",
    "    for i in range(0, len(team_standings)):\n",
    "        # print(f\"team {team} {i}th year\")\n",
    "        if i + sequences < len(team_standings):\n",
    "            x_values = team_standings[i:i+sequences]\n",
    "            # print(x_values)\n",
    "            # X.append(x_values)\n",
    "            y_value = team_standings[i+sequences, 0]\n",
    "            #print(y_value)\n",
    "            y.append(y_value)\n",
    "        elif i + sequences == len(team_standings):\n",
    "            x_values = team_standings[i:i+sequences]\n",
    "            X_test.append(x_values)\n",
    "            print(f\"team {team}\")\n",
    "            X_test_teams.append(team)\n",
    "\n",
    "X = np.array(x_values)\n",
    "y = np.array(y)\n",
    "X_test = np.array(X_test)\n",
    "print(X.shape)\n",
    "print(y.shape)\n",
    "print(X_test.shape)"
   ]
  },
  {
   "cell_type": "code",
   "execution_count": null,
   "metadata": {},
   "outputs": [],
   "source": [
    "print(y)"
   ]
  },
  {
   "cell_type": "code",
   "execution_count": null,
   "metadata": {},
   "outputs": [],
   "source": [
    "print(X_test)"
   ]
  },
  {
   "cell_type": "code",
   "execution_count": null,
   "metadata": {},
   "outputs": [],
   "source": [
    "def linear_transform(X):\n",
    "    if len(X.shape) == 3:\n",
    "        if X.shape[1] == 1:\n",
    "            X_linear = np.squeeze(X, 1)\n",
    "        else:\n",
    "            X_linear = X.reshape((X.shape[0], X.shape[1]* X.shape[2]))\n",
    "    return X_linear"
   ]
  },
  {
   "cell_type": "code",
   "execution_count": null,
   "metadata": {},
   "outputs": [],
   "source": [
    "X_linear = linear_transform(X)\n",
    "print(X_linear.shape)"
   ]
  },
  {
   "cell_type": "code",
   "execution_count": null,
   "metadata": {},
   "outputs": [],
   "source": [
    "print(X_linear.shape)\n",
    "print(y.shape)\n",
    "reg = LinearRegression().fit(X_linear, y)\n",
    "reg.score(X_linear, y)"
   ]
  },
  {
   "cell_type": "code",
   "execution_count": null,
   "metadata": {},
   "outputs": [],
   "source": [
    "X_test_linear = linear_transform(X_test)\n",
    "print(X_test_linear.shape)"
   ]
  },
  {
   "cell_type": "code",
   "execution_count": null,
   "metadata": {},
   "outputs": [],
   "source": [
    "print(X_test_teams)"
   ]
  },
  {
   "cell_type": "code",
   "execution_count": null,
   "metadata": {},
   "outputs": [],
   "source": [
    "result = reg.predict(X_test_linear)\n",
    "print(np.array(result))"
   ]
  },
  {
   "cell_type": "code",
   "execution_count": null,
   "metadata": {},
   "outputs": [],
   "source": [
    "inds = np.argsort(result, axis=0)\n",
    "print(inds)"
   ]
  },
  {
   "cell_type": "code",
   "execution_count": null,
   "metadata": {},
   "outputs": [],
   "source": [
    "for i, ind in enumerate(inds):\n",
    "    team = X_test_teams[ind]\n",
    "    res = result[ind]\n",
    "    print(f\"{i+1}th team {team} is {round(res, 2)}\")"
   ]
  },
  {
   "cell_type": "markdown",
   "metadata": {},
   "source": [
    "# LSTM"
   ]
  },
  {
   "cell_type": "code",
   "execution_count": null,
   "metadata": {},
   "outputs": [],
   "source": [
    "def set_dataset(X, y):\n",
    "    train_ds = tf.data.Dataset.from_tensor_slices((X, y))\n",
    "    return train_ds\n",
    "\n",
    "def preprocessing(df, sequences):\n",
    "    vals = df.values\n",
    "    teams = np.unique(df['team'].values)\n",
    "    print(teams)\n",
    "    X = []\n",
    "    y = []\n",
    "    X_test = []\n",
    "    X_test_teams = []\n",
    "\n",
    "    # df_dummies = pd.get_dummies(df, columns=['team'])\n",
    "    df_filtered = df.drop(columns=['year'])\n",
    "\n",
    "    for team in teams:\n",
    "        df_team = df_filtered.loc[df['team'] == team]\n",
    "        # print(df_team)\n",
    "        team_standings = df_team.standing.values\n",
    "        print(f\"team_standings {team_standings}\")\n",
    "        for i in range(0, len(team_standings)):\n",
    "            print(f\"team {team} {i}th year\")\n",
    "            if i + sequences < len(team_standings):\n",
    "                x_values = team_standings[i:i+sequences]\n",
    "                print(f\"x_values {x_values}\")\n",
    "                X.append(x_values)\n",
    "                y_value = team_standings[i+sequences]\n",
    "                print(f\"y_value {y_value}\")\n",
    "                y.append(y_value)\n",
    "            elif i + sequences == len(team_standings):\n",
    "                x_values = team_standings[i:i+sequences]\n",
    "                X_test.append(x_values)\n",
    "                print(f\"team {team}\")\n",
    "                X_test_teams.append(team)\n",
    "\n",
    "    X = np.array(X)\n",
    "    X = X.reshape(X.shape[0], X.shape[1], 1)\n",
    "    y = np.array(y)\n",
    "    X_test = np.array(X_test)\n",
    "    X_test = X_test.reshape(X_test.shape[0], X_test.shape[1], 1)\n",
    "    print(X.shape)\n",
    "    print(y.shape)\n",
    "    print(X_test.shape)\n",
    "    return X, y, X_test, X_test_teams"
   ]
  },
  {
   "cell_type": "code",
   "execution_count": null,
   "metadata": {},
   "outputs": [],
   "source": [
    "def set_lstm(n_timesteps, n_features, hidden, n_outputs):\n",
    "    model = tf.keras.Sequential()\n",
    "    model.add(tf.keras.layers.LSTM(hidden, input_shape=(n_timesteps, n_features)))\n",
    "    model.add(tf.keras.layers.Dropout(0.1))\n",
    "    #model.add(Dense(hidden, activation='relu'))\n",
    "    model.add(tf.keras.layers.Dense(n_outputs, activation='relu'))\n",
    "    # model.compile(loss='categorical_crossentropy', optimizer='adam', metrics=['mse'])\n",
    "    model.compile(loss='mse', optimizer='adam', metrics=['mse'])\n",
    "    model.summary()\n",
    "    return model\n",
    "\n",
    "def predict(model, X_test):\n",
    "    lstm_preds = model.predict(X_test)\n",
    "    inds = np.argsort(lstm_preds[:,0])\n",
    "    print(inds)\n",
    "    print(lstm_preds.shape)\n",
    "\n",
    "    for i, ind in enumerate(inds):\n",
    "        team = X_test_teams[ind]\n",
    "        pred = lstm_preds[ind, 0]\n",
    "        print(f\"{i+1}th team {team} is {str(np.round(pred, 1))}\")\n",
    "\n",
    "def train(n_timesteps, n_features, hidden, output_size, batch_size, epochs):\n",
    "    model = set_lstm(n_timesteps, n_features, hidden, output_size)\n",
    "    # Compile the model\n",
    "    # optimizer = tf.keras.optimizers.Adam()\n",
    "    # model.compile(optimizer=optimizer, loss='mse')\n",
    "\n",
    "    # train_ds = set_dataset(X, y)\n",
    "    print(X.shape)\n",
    "    X_train, X_val = X[:100,:,:], X[100:,:]\n",
    "    y_train, y_val = y[:100], y[100:]\n",
    "\n",
    "    model.fit(X, y, epochs=epochs, batch_size=batch_size, verbose=2, validation_split=0.2)\n",
    "    # evaluate model\n",
    "    _, accuracy = model.evaluate(X_val, y_val, batch_size=batch_size, verbose=0)\n",
    "\n",
    "    print(accuracy)\n",
    "    return model"
   ]
  },
  {
   "cell_type": "code",
   "execution_count": null,
   "metadata": {},
   "outputs": [],
   "source": [
    "df = pd.read_csv('data/data.csv', sep=';')\n",
    "# sort data by team and year\n",
    "df = df.sort_values(['team', 'year'], ascending=[True, True]).reset_index(drop=True)\n",
    "df.tail()"
   ]
  },
  {
   "cell_type": "code",
   "execution_count": null,
   "metadata": {
    "scrolled": false
   },
   "outputs": [],
   "source": [
    "n_timesteps = 3\n",
    "n_features = 1\n",
    "hidden = 64\n",
    "output_size = 1  # labels are from 1-21\n",
    "batch_size = 4\n",
    "epochs = 50\n",
    "\n",
    "X, y, X_test, X_test_teams = preprocessing(df, n_timesteps)\n",
    "\n",
    "model = train(n_timesteps, n_features, hidden, output_size, batch_size, epochs)\n"
   ]
  },
  {
   "cell_type": "code",
   "execution_count": null,
   "metadata": {},
   "outputs": [],
   "source": [
    "predict(model, X_test)"
   ]
  }
 ],
 "metadata": {
  "kernelspec": {
   "display_name": "Python 3 (ipykernel)",
   "language": "python",
   "name": "python3"
  },
  "language_info": {
   "codemirror_mode": {
    "name": "ipython",
    "version": 3
   },
   "file_extension": ".py",
   "mimetype": "text/x-python",
   "name": "python",
   "nbconvert_exporter": "python",
   "pygments_lexer": "ipython3",
   "version": "3.9.17"
  }
 },
 "nbformat": 4,
 "nbformat_minor": 1
}
